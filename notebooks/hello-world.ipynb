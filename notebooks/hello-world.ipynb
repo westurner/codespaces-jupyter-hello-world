{
 "cells": [
  {
   "cell_type": "markdown",
   "metadata": {},
   "source": [
    "# Hello World!\n",
    "- https://en.wikipedia.org/wiki/Hello_world"
   ]
  },
  {
   "cell_type": "code",
   "execution_count": 1,
   "metadata": {},
   "outputs": [
    {
     "name": "stdout",
     "output_type": "stream",
     "text": [
      "('Hello world!', <built-in function print>)\n"
     ]
    },
    {
     "data": {
      "text/plain": [
       "('Hello world!',\n",
       " <function IPython.core.display_functions.display(*objs, include=None, exclude=None, metadata=None, transient=None, display_id=None, raw=False, clear=False, **kwargs)>)"
      ]
     },
     "metadata": {},
     "output_type": "display_data"
    },
    {
     "data": {
      "text/plain": [
       "'Hello world!'"
      ]
     },
     "execution_count": 1,
     "metadata": {},
     "output_type": "execute_result"
    }
   ],
   "source": [
    "print((\"Hello world!\", print))\n",
    "display((\"Hello world!\", display))\n",
    "\"Hello world!\""
   ]
  },
  {
   "cell_type": "code",
   "execution_count": 36,
   "metadata": {},
   "outputs": [
    {
     "name": "stdout",
     "output_type": "stream",
     "text": [
      "0\n"
     ]
    }
   ],
   "source": [
    "## Requirements (already specified in /requirements.txt (a Pip requirements.txt file))\n",
    "## ($ pip install -r ./requirements.txt)\n",
    "#!python -c 'import operator; assert operator'\n",
    "#!python -c 'assert \"sum\" in dir(__builtins__)'; echo $?\n",
    "#!pip install numpy\n",
    "#!python -c 'import numpy; assert numpy'"
   ]
  },
  {
   "cell_type": "markdown",
   "metadata": {},
   "source": [
    "## Arithmetic"
   ]
  },
  {
   "cell_type": "code",
   "execution_count": 10,
   "metadata": {},
   "outputs": [],
   "source": [
    "def test_arithmetic_addition_python():\n",
    "    assert 0 + 0 == 0\n",
    "    assert 0 + 1 == 1\n",
    "    assert 1 + 1 == 2\n",
    "    assert 10 + 10 == 20\n",
    "    assert 21 + 22 == 43\n",
    "    assert 0 - 0 == 0\n",
    "    assert 0 - 1 == -1\n",
    "    assert 0 - 10 == -10\n",
    "    assert -21 + -22 == -43\n",
    "    assert -21 - 22  == -43\n",
    "    assert 100 + 20 + 3 == 123\n",
    "\n",
    "test_arithmetic_addition_python()"
   ]
  },
  {
   "cell_type": "code",
   "execution_count": 30,
   "metadata": {},
   "outputs": [],
   "source": [
    "def test_arithmetic_addition_python_functional_operators():\n",
    "    from operator import add, sub\n",
    "    assert add(0, 0) == 0\n",
    "    assert add(0, 1) == 1\n",
    "    assert add(1, 1) == 2\n",
    "    assert add(10, 10) == 20\n",
    "    assert add(21, 22) == 43\n",
    "    assert sub(0, 0) == 0\n",
    "    assert sub(0, 1) == -1\n",
    "    assert sub(0, 10) == -10\n",
    "    assert add(-21, -22) == -43 == sub(-21, 22)\n",
    "    assert sub(-21, 22)  == -43\n",
    "\n",
    "    ## If we add(100, 20, 3), we get a TypeError:\n",
    "    # with assertRaises(TypeError): # \"add expected 2 arguments, got 3\"\n",
    "    #     assert add(100, 20, 3) == 123\n",
    "\n",
    "    assert add(add(100, 20), 3) == 123 == sum((100, 20, 3)) == sum([100, 20, 3])\n",
    "    assert 'sum' in dir(__builtins__)  # print(dir(__builtins__))\n",
    "    assert sum((100, 20, 3)) == 123\n",
    "\n",
    "test_arithmetic_addition_python_functional_operators()"
   ]
  },
  {
   "cell_type": "code",
   "execution_count": 28,
   "metadata": {},
   "outputs": [
    {
     "data": {
      "text/plain": [
       "['set', 'setattr', 'slice', 'sorted', 'staticmethod', 'str', 'sum', 'super']"
      ]
     },
     "metadata": {},
     "output_type": "display_data"
    },
    {
     "data": {
      "text/plain": [
       "['sum', 'super']"
      ]
     },
     "metadata": {},
     "output_type": "display_data"
    }
   ],
   "source": [
    "def test_why_dont_we_need_to_import_the__sum__method():\n",
    "    # dir?\n",
    "    # display(dir(__builtins__))\n",
    "    # display([attr for attr in dir(__builtins__)])\n",
    "    display([attr for attr in dir(__builtins__) if attr.startswith('s')])\n",
    "    display([attr for attr in dir(__builtins__) if attr.startswith('su')])\n",
    "\n",
    "test_why_dont_we_need_to_import_the__sum__method()"
   ]
  },
  {
   "cell_type": "code",
   "execution_count": 49,
   "metadata": {},
   "outputs": [
    {
     "data": {
      "text/plain": [
       "array([0.])"
      ]
     },
     "metadata": {},
     "output_type": "display_data"
    },
    {
     "data": {
      "text/plain": [
       "array([0., 0.])"
      ]
     },
     "metadata": {},
     "output_type": "display_data"
    },
    {
     "data": {
      "text/plain": [
       "array([[0., 0., 0.],\n",
       "       [0., 0., 0.],\n",
       "       [0., 0., 0.]])"
      ]
     },
     "metadata": {},
     "output_type": "display_data"
    }
   ],
   "source": [
    "def test_arithmetic_addition_numpy():\n",
    "    import numpy\n",
    "    display(numpy.zeros(1))\n",
    "    display(numpy.zeros(2))\n",
    "    display(numpy.zeros((3, 3)))\n",
    "    assert type(numpy.zeros(1)) == numpy.ndarray\n",
    "    assert type(numpy.zeros((3, 3))) == numpy.ndarray\n",
    "\n",
    "test_arithmetic_addition_numpy()"
   ]
  }
 ],
 "metadata": {
  "kernelspec": {
   "display_name": "Python 3.10.4 64-bit",
   "language": "python",
   "name": "python3"
  },
  "language_info": {
   "codemirror_mode": {
    "name": "ipython",
    "version": 3
   },
   "file_extension": ".py",
   "mimetype": "text/x-python",
   "name": "python",
   "nbconvert_exporter": "python",
   "pygments_lexer": "ipython3",
   "version": "3.10.4"
  },
  "orig_nbformat": 4,
  "vscode": {
   "interpreter": {
    "hash": "3ad933181bd8a04b432d3370b9dc3b0662ad032c4dfaa4e4f1596c548f763858"
   }
  }
 },
 "nbformat": 4,
 "nbformat_minor": 2
}
